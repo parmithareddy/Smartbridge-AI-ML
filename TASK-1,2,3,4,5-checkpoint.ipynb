{
 "cells": [
  {
   "cell_type": "code",
   "execution_count": 1,
   "id": "56f79878",
   "metadata": {},
   "outputs": [],
   "source": [
    "import pandas as pd #task-1 create a pandas dataframe "
   ]
  },
  {
   "cell_type": "code",
   "execution_count": 7,
   "id": "a22c2325",
   "metadata": {},
   "outputs": [],
   "source": [
    "df = pd.DataFrame(columns=['feature1', 'feature2', 'feature3', 'feature4', 'feature5'])\n",
    "\n",
    "for i in range(10):\n",
    "    df.loc[i] = [f'obs{i}_feat{j}' for j in range(1,6)] "
   ]
  },
  {
   "cell_type": "code",
   "execution_count": 8,
   "id": "7a58ce52",
   "metadata": {},
   "outputs": [
    {
     "data": {
      "text/html": [
       "<div>\n",
       "<style scoped>\n",
       "    .dataframe tbody tr th:only-of-type {\n",
       "        vertical-align: middle;\n",
       "    }\n",
       "\n",
       "    .dataframe tbody tr th {\n",
       "        vertical-align: top;\n",
       "    }\n",
       "\n",
       "    .dataframe thead th {\n",
       "        text-align: right;\n",
       "    }\n",
       "</style>\n",
       "<table border=\"1\" class=\"dataframe\">\n",
       "  <thead>\n",
       "    <tr style=\"text-align: right;\">\n",
       "      <th></th>\n",
       "      <th>feature1</th>\n",
       "      <th>feature2</th>\n",
       "      <th>feature3</th>\n",
       "      <th>feature4</th>\n",
       "      <th>feature5</th>\n",
       "    </tr>\n",
       "  </thead>\n",
       "  <tbody>\n",
       "    <tr>\n",
       "      <th>0</th>\n",
       "      <td>obs0_feat1</td>\n",
       "      <td>obs0_feat2</td>\n",
       "      <td>obs0_feat3</td>\n",
       "      <td>obs0_feat4</td>\n",
       "      <td>obs0_feat5</td>\n",
       "    </tr>\n",
       "    <tr>\n",
       "      <th>1</th>\n",
       "      <td>obs1_feat1</td>\n",
       "      <td>obs1_feat2</td>\n",
       "      <td>obs1_feat3</td>\n",
       "      <td>obs1_feat4</td>\n",
       "      <td>obs1_feat5</td>\n",
       "    </tr>\n",
       "    <tr>\n",
       "      <th>2</th>\n",
       "      <td>obs2_feat1</td>\n",
       "      <td>obs2_feat2</td>\n",
       "      <td>obs2_feat3</td>\n",
       "      <td>obs2_feat4</td>\n",
       "      <td>obs2_feat5</td>\n",
       "    </tr>\n",
       "    <tr>\n",
       "      <th>3</th>\n",
       "      <td>obs3_feat1</td>\n",
       "      <td>obs3_feat2</td>\n",
       "      <td>obs3_feat3</td>\n",
       "      <td>obs3_feat4</td>\n",
       "      <td>obs3_feat5</td>\n",
       "    </tr>\n",
       "    <tr>\n",
       "      <th>4</th>\n",
       "      <td>obs4_feat1</td>\n",
       "      <td>obs4_feat2</td>\n",
       "      <td>obs4_feat3</td>\n",
       "      <td>obs4_feat4</td>\n",
       "      <td>obs4_feat5</td>\n",
       "    </tr>\n",
       "    <tr>\n",
       "      <th>5</th>\n",
       "      <td>obs5_feat1</td>\n",
       "      <td>obs5_feat2</td>\n",
       "      <td>obs5_feat3</td>\n",
       "      <td>obs5_feat4</td>\n",
       "      <td>obs5_feat5</td>\n",
       "    </tr>\n",
       "    <tr>\n",
       "      <th>6</th>\n",
       "      <td>obs6_feat1</td>\n",
       "      <td>obs6_feat2</td>\n",
       "      <td>obs6_feat3</td>\n",
       "      <td>obs6_feat4</td>\n",
       "      <td>obs6_feat5</td>\n",
       "    </tr>\n",
       "    <tr>\n",
       "      <th>7</th>\n",
       "      <td>obs7_feat1</td>\n",
       "      <td>obs7_feat2</td>\n",
       "      <td>obs7_feat3</td>\n",
       "      <td>obs7_feat4</td>\n",
       "      <td>obs7_feat5</td>\n",
       "    </tr>\n",
       "    <tr>\n",
       "      <th>8</th>\n",
       "      <td>obs8_feat1</td>\n",
       "      <td>obs8_feat2</td>\n",
       "      <td>obs8_feat3</td>\n",
       "      <td>obs8_feat4</td>\n",
       "      <td>obs8_feat5</td>\n",
       "    </tr>\n",
       "    <tr>\n",
       "      <th>9</th>\n",
       "      <td>obs9_feat1</td>\n",
       "      <td>obs9_feat2</td>\n",
       "      <td>obs9_feat3</td>\n",
       "      <td>obs9_feat4</td>\n",
       "      <td>obs9_feat5</td>\n",
       "    </tr>\n",
       "  </tbody>\n",
       "</table>\n",
       "</div>"
      ],
      "text/plain": [
       "     feature1    feature2    feature3    feature4    feature5\n",
       "0  obs0_feat1  obs0_feat2  obs0_feat3  obs0_feat4  obs0_feat5\n",
       "1  obs1_feat1  obs1_feat2  obs1_feat3  obs1_feat4  obs1_feat5\n",
       "2  obs2_feat1  obs2_feat2  obs2_feat3  obs2_feat4  obs2_feat5\n",
       "3  obs3_feat1  obs3_feat2  obs3_feat3  obs3_feat4  obs3_feat5\n",
       "4  obs4_feat1  obs4_feat2  obs4_feat3  obs4_feat4  obs4_feat5\n",
       "5  obs5_feat1  obs5_feat2  obs5_feat3  obs5_feat4  obs5_feat5\n",
       "6  obs6_feat1  obs6_feat2  obs6_feat3  obs6_feat4  obs6_feat5\n",
       "7  obs7_feat1  obs7_feat2  obs7_feat3  obs7_feat4  obs7_feat5\n",
       "8  obs8_feat1  obs8_feat2  obs8_feat3  obs8_feat4  obs8_feat5\n",
       "9  obs9_feat1  obs9_feat2  obs9_feat3  obs9_feat4  obs9_feat5"
      ]
     },
     "execution_count": 8,
     "metadata": {},
     "output_type": "execute_result"
    }
   ],
   "source": [
    "df"
   ]
  },
  {
   "cell_type": "code",
   "execution_count": 9,
   "id": "a9ca9bcb",
   "metadata": {},
   "outputs": [
    {
     "name": "stdout",
     "output_type": "stream",
     "text": [
      "<class 'pandas.core.frame.DataFrame'>\n",
      "Int64Index: 10 entries, 0 to 9\n",
      "Data columns (total 5 columns):\n",
      " #   Column    Non-Null Count  Dtype \n",
      "---  ------    --------------  ----- \n",
      " 0   feature1  10 non-null     object\n",
      " 1   feature2  10 non-null     object\n",
      " 2   feature3  10 non-null     object\n",
      " 3   feature4  10 non-null     object\n",
      " 4   feature5  10 non-null     object\n",
      "dtypes: object(5)\n",
      "memory usage: 480.0+ bytes\n"
     ]
    }
   ],
   "source": [
    "df.info() # task -2 checking information of df"
   ]
  },
  {
   "cell_type": "code",
   "execution_count": 10,
   "id": "86b3101e",
   "metadata": {},
   "outputs": [
    {
     "data": {
      "text/html": [
       "<div>\n",
       "<style scoped>\n",
       "    .dataframe tbody tr th:only-of-type {\n",
       "        vertical-align: middle;\n",
       "    }\n",
       "\n",
       "    .dataframe tbody tr th {\n",
       "        vertical-align: top;\n",
       "    }\n",
       "\n",
       "    .dataframe thead th {\n",
       "        text-align: right;\n",
       "    }\n",
       "</style>\n",
       "<table border=\"1\" class=\"dataframe\">\n",
       "  <thead>\n",
       "    <tr style=\"text-align: right;\">\n",
       "      <th></th>\n",
       "      <th>feature1</th>\n",
       "      <th>feature2</th>\n",
       "      <th>feature3</th>\n",
       "      <th>feature4</th>\n",
       "      <th>feature5</th>\n",
       "    </tr>\n",
       "  </thead>\n",
       "  <tbody>\n",
       "    <tr>\n",
       "      <th>count</th>\n",
       "      <td>10</td>\n",
       "      <td>10</td>\n",
       "      <td>10</td>\n",
       "      <td>10</td>\n",
       "      <td>10</td>\n",
       "    </tr>\n",
       "    <tr>\n",
       "      <th>unique</th>\n",
       "      <td>10</td>\n",
       "      <td>10</td>\n",
       "      <td>10</td>\n",
       "      <td>10</td>\n",
       "      <td>10</td>\n",
       "    </tr>\n",
       "    <tr>\n",
       "      <th>top</th>\n",
       "      <td>obs0_feat1</td>\n",
       "      <td>obs0_feat2</td>\n",
       "      <td>obs0_feat3</td>\n",
       "      <td>obs0_feat4</td>\n",
       "      <td>obs0_feat5</td>\n",
       "    </tr>\n",
       "    <tr>\n",
       "      <th>freq</th>\n",
       "      <td>1</td>\n",
       "      <td>1</td>\n",
       "      <td>1</td>\n",
       "      <td>1</td>\n",
       "      <td>1</td>\n",
       "    </tr>\n",
       "  </tbody>\n",
       "</table>\n",
       "</div>"
      ],
      "text/plain": [
       "          feature1    feature2    feature3    feature4    feature5\n",
       "count           10          10          10          10          10\n",
       "unique          10          10          10          10          10\n",
       "top     obs0_feat1  obs0_feat2  obs0_feat3  obs0_feat4  obs0_feat5\n",
       "freq             1           1           1           1           1"
      ]
     },
     "execution_count": 10,
     "metadata": {},
     "output_type": "execute_result"
    }
   ],
   "source": [
    "df.describe() # task -3 checking the descriptive statistics of df"
   ]
  },
  {
   "cell_type": "code",
   "execution_count": 11,
   "id": "5f27523d",
   "metadata": {},
   "outputs": [
    {
     "data": {
      "text/plain": [
       "feature1    obs4_feat1\n",
       "feature2    obs4_feat2\n",
       "feature3    obs4_feat3\n",
       "feature4    obs4_feat4\n",
       "feature5    obs4_feat5\n",
       "Name: 4, dtype: object"
      ]
     },
     "execution_count": 11,
     "metadata": {},
     "output_type": "execute_result"
    }
   ],
   "source": [
    "df.loc[4] # task -4 checking the 4th index observation with loc slicing operator"
   ]
  },
  {
   "cell_type": "code",
   "execution_count": 12,
   "id": "09f930af",
   "metadata": {},
   "outputs": [
    {
     "data": {
      "text/plain": [
       "feature1    False\n",
       "feature2    False\n",
       "feature3    False\n",
       "feature4    False\n",
       "feature5    False\n",
       "dtype: bool"
      ]
     },
     "execution_count": 12,
     "metadata": {},
     "output_type": "execute_result"
    }
   ],
   "source": [
    "df.isnull().any() #task-5 checking null values in df"
   ]
  },
  {
   "cell_type": "code",
   "execution_count": null,
   "id": "6f116dc1",
   "metadata": {},
   "outputs": [],
   "source": []
  }
 ],
 "metadata": {
  "kernelspec": {
   "display_name": "Python 3 (ipykernel)",
   "language": "python",
   "name": "python3"
  },
  "language_info": {
   "codemirror_mode": {
    "name": "ipython",
    "version": 3
   },
   "file_extension": ".py",
   "mimetype": "text/x-python",
   "name": "python",
   "nbconvert_exporter": "python",
   "pygments_lexer": "ipython3",
   "version": "3.11.4"
  }
 },
 "nbformat": 4,
 "nbformat_minor": 5
}
